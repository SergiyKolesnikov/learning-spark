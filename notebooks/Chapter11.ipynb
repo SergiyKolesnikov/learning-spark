{
 "cells": [
  {
   "cell_type": "markdown",
   "id": "9de0d8fc-e1f7-4564-99ee-2cbab05b788f",
   "metadata": {},
   "source": [
    "# Chapter 11. Managing, Deploying, and Scaling Machine Learning Pipelines with Apache Spark"
   ]
  },
  {
   "cell_type": "markdown",
   "id": "83f7ea67-167b-4a1f-a3a8-b2e1176cc9fe",
   "metadata": {},
   "source": [
    "## Model Management -> MLflow -> Tracking"
   ]
  },
  {
   "cell_type": "code",
   "execution_count": null,
   "id": "d218a5a0-4a0d-4b4d-b20f-7f8794d3d32e",
   "metadata": {},
   "outputs": [],
   "source": [
    "from pyspark.sql import SparkSession\n",
    "\n",
    "spark = (SparkSession.builder\n",
    "  .master(\"local[4]\")\n",
    "  .appName(\"MLflow\")\n",
    "  .getOrCreate())\n",
    "spark.sparkContext.setLogLevel(\"ERROR\")\n",
    "spark"
   ]
  },
  {
   "cell_type": "markdown",
   "id": "deb2ce06-29c6-4807-af3a-164c88c2b029",
   "metadata": {},
   "source": [
    "Random forest code from Chapter 10:"
   ]
  },
  {
   "cell_type": "code",
   "execution_count": null,
   "id": "196f8404-a59d-43d2-9fa7-7ad40f9b3d15",
   "metadata": {},
   "outputs": [],
   "source": [
    "from pyspark.ml import Pipeline\n",
    "from pyspark.ml.feature import StringIndexer, VectorAssembler\n",
    "from pyspark.ml.regression import RandomForestRegressor\n",
    "from pyspark.ml.evaluation import RegressionEvaluator\n",
    "\n",
    "filePath = \"../data/sf-airbnb/sf-airbnb-clean.parquet/\"\n",
    "airbnbDF = spark.read.parquet(filePath)\n",
    "(trainDF, testDF) = airbnbDF.randomSplit([.8, .2], seed=42)\n",
    "\n",
    "categoricalCols = [field for (field, dataType) in trainDF.dtypes \n",
    "                   if dataType == \"string\"]\n",
    "indexOutputCols = [x + \"Index\" for x in categoricalCols]\n",
    "stringIndexer = StringIndexer(inputCols=categoricalCols, \n",
    "                              outputCols=indexOutputCols, \n",
    "                              handleInvalid=\"skip\")\n",
    "\n",
    "numericCols = [field for (field, dataType) in trainDF.dtypes \n",
    "               if ((dataType == \"double\") & (field != \"price\"))]\n",
    "assemblerInputs = indexOutputCols + numericCols\n",
    "vecAssembler = VectorAssembler(inputCols=assemblerInputs, \n",
    "                               outputCol=\"features\")\n",
    "\n",
    "rf = RandomForestRegressor(labelCol=\"price\", maxBins=40, maxDepth=5, \n",
    "                           numTrees=100, seed=42)\n",
    "\n",
    "pipeline = Pipeline(stages=[stringIndexer, vecAssembler, rf])"
   ]
  },
  {
   "cell_type": "markdown",
   "id": "2e53c6d8-c385-4c5c-bf3f-ff80b8314b1e",
   "metadata": {},
   "source": [
    "Log a run with MLflow"
   ]
  },
  {
   "cell_type": "code",
   "execution_count": null,
   "id": "8ca2c66e-58fe-43a9-85f0-7f38474b5fce",
   "metadata": {},
   "outputs": [],
   "source": [
    "import mlflow\n",
    "import mlflow.spark\n",
    "import pandas as pd\n",
    "\n",
    "with mlflow.start_run(run_name=\"random-forest\") as run:\n",
    "  # Log params: num_trees and max_depth\n",
    "  mlflow.log_param(\"num_trees\", rf.getNumTrees())\n",
    "  mlflow.log_param(\"max_depth\", rf.getMaxDepth())\n",
    " \n",
    "  # Log model\n",
    "  pipelineModel = pipeline.fit(trainDF)\n",
    "  mlflow.spark.log_model(pipelineModel, \"model\")\n",
    "\n",
    "  # Log metrics: RMSE and R2\n",
    "  predDF = pipelineModel.transform(testDF)\n",
    "  regressionEvaluator = RegressionEvaluator(predictionCol=\"prediction\", \n",
    "                                            labelCol=\"price\")\n",
    "  rmse = regressionEvaluator.setMetricName(\"rmse\").evaluate(predDF)\n",
    "  r2 = regressionEvaluator.setMetricName(\"r2\").evaluate(predDF)\n",
    "  mlflow.log_metrics({\"rmse\": rmse, \"r2\": r2})\n",
    "\n",
    "  # Log artifact: feature importance scores\n",
    "  rfModel = pipelineModel.stages[-1]\n",
    "  pandasDF = (pd.DataFrame(list(zip(vecAssembler.getInputCols(), \n",
    "                                    rfModel.featureImportances)), \n",
    "                           columns=[\"feature\", \"importance\"])\n",
    "              .sort_values(by=\"importance\", ascending=False))\n",
    "\n",
    "  # First write to local filesystem, then tell MLflow where to find that file\n",
    "  pandasDF.to_csv(\"feature-importance.csv\", index=False)\n",
    "  mlflow.log_artifact(\"feature-importance.csv\")"
   ]
  },
  {
   "cell_type": "markdown",
   "id": "3ab8367e-d91b-4769-b686-36918a844238",
   "metadata": {},
   "source": [
    "In your terminal, run `mlflow ui --backend-store-uri notebooks/mlruns` in the root of the Git repository and examine the tracked run in the MLflow UI at [http://localhost:5000/](http://localhost:5000/)"
   ]
  },
  {
   "cell_type": "markdown",
   "id": "daec7e29-9f67-43b0-9718-82aef2d28390",
   "metadata": {},
   "source": [
    "Query the tracking server using the MlflowClient"
   ]
  },
  {
   "cell_type": "code",
   "execution_count": null,
   "id": "c3b87ebd-59b4-4072-81a1-3d16be9d5bf3",
   "metadata": {},
   "outputs": [],
   "source": [
    "from mlflow.tracking import MlflowClient\n",
    "\n",
    "client = MlflowClient()\n",
    "runs = client.search_runs(run.info.experiment_id, \n",
    "                          order_by=[\"attributes.start_time desc\"], \n",
    "                          max_results=1)\n",
    "\n",
    "run_id = runs[0].info.run_id\n",
    "runs[0].data.metrics"
   ]
  },
  {
   "cell_type": "markdown",
   "id": "8b5ad617-8dc3-4850-b80c-46fa6ecac898",
   "metadata": {},
   "source": [
    "Run an MLflow project hosted on GitHub using different hyperparameter values"
   ]
  },
  {
   "cell_type": "code",
   "execution_count": null,
   "id": "f19c397e-fd9c-4867-ab7a-97d2f804dd7a",
   "metadata": {},
   "outputs": [],
   "source": [
    "mlflow.run(\n",
    "    \"https://github.com/databricks/LearningSparkV2/#mlflow-project-example\",\n",
    "    env_manager=\"local\",\n",
    "    parameters={\"max_depth\": 5, \"num_trees\": 100})"
   ]
  },
  {
   "cell_type": "markdown",
   "id": "f6d468df-daa4-4df0-8f2b-ccf324ffe1ce",
   "metadata": {},
   "source": [
    "Again, you can check the results of the run in the MLflow UI at [http://localhost:5000/](http://localhost:5000/)"
   ]
  },
  {
   "cell_type": "code",
   "execution_count": null,
   "id": "55bf67b1-f81f-4bbb-a8d5-41b395d9cbd1",
   "metadata": {},
   "outputs": [],
   "source": []
  }
 ],
 "metadata": {
  "kernelspec": {
   "display_name": "Python 3 (ipykernel)",
   "language": "python",
   "name": "python3"
  },
  "language_info": {
   "codemirror_mode": {
    "name": "ipython",
    "version": 3
   },
   "file_extension": ".py",
   "mimetype": "text/x-python",
   "name": "python",
   "nbconvert_exporter": "python",
   "pygments_lexer": "ipython3",
   "version": "3.11.2"
  }
 },
 "nbformat": 4,
 "nbformat_minor": 5
}
