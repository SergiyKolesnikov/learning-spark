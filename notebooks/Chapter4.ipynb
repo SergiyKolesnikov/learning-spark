{
 "cells": [
  {
   "cell_type": "markdown",
   "id": "ff4db41f-fdd4-4367-b94e-951ff6381c43",
   "metadata": {},
   "source": [
    "# Chapter 4. Spark SQL and DataFrames: Introduction to Built-in Data Sources"
   ]
  },
  {
   "cell_type": "code",
   "execution_count": null,
   "id": "bfe131e9-a224-4686-994c-2dd1f45b3933",
   "metadata": {},
   "outputs": [],
   "source": [
    "from pyspark.sql import SparkSession\n",
    "import pyspark.sql.functions as F\n",
    "spark = SparkSession.builder.config(\"spark.driver.memory\", \"3g\").appName(\"SparkSQLExampleApp\").getOrCreate()\n",
    "spark"
   ]
  },
  {
   "cell_type": "markdown",
   "id": "3b16d147-e8a0-4e7e-948b-8a46c523bd8d",
   "metadata": {},
   "source": [
    "## Using Spark SQL in Spark Applications"
   ]
  },
  {
   "cell_type": "code",
   "execution_count": null,
   "id": "cd059f15-21dc-4137-b817-0886b2de3b7f",
   "metadata": {},
   "outputs": [],
   "source": [
    "FLIGHTS_DATA = \"../data/departuredelays.csv\"\n",
    "FLIGHTS_SCHEMA = \"`date` STRING, `delay` INT, `distance` INT, `origin` STRING, `destination` STRING\""
   ]
  },
  {
   "cell_type": "code",
   "execution_count": null,
   "id": "064e52c9-d645-48b3-b7f8-0f8a26f8ff54",
   "metadata": {},
   "outputs": [],
   "source": [
    "df = (spark.read\n",
    "      .format(\"csv\")\n",
    "      .schema(FLIGHTS_SCHEMA)\n",
    "      .option(\"header\", \"true\")\n",
    "      .load(FLIGHTS_DATA))\n",
    "df.createOrReplaceTempView(\"us_delay_flights_tbl\")"
   ]
  },
  {
   "cell_type": "code",
   "execution_count": null,
   "id": "250de2c3-4e1c-407f-8eb0-6814d7122e32",
   "metadata": {},
   "outputs": [],
   "source": [
    "df.show(10)"
   ]
  },
  {
   "cell_type": "code",
   "execution_count": null,
   "id": "85c189c5-18f2-426a-97be-4d19ae52d403",
   "metadata": {},
   "outputs": [],
   "source": [
    "# Find flights whose distance is greater than 1000 miles\n",
    "spark.sql(\"select * from us_delay_flights_tbl where distance > 1000 order by distance desc\").show(10)"
   ]
  },
  {
   "cell_type": "code",
   "execution_count": null,
   "id": "024ba3a2-5789-4898-8555-98f30e80bbc1",
   "metadata": {
    "scrolled": true
   },
   "outputs": [],
   "source": [
    "# Find all flights between San Francisco (SFO) and Chicago (ORD) with at least a two-hour delay\n",
    "(spark.sql(\"select to_date(date, 'MMddHHmm') as date_converted, count(delay) as delay_count from us_delay_flights_tbl \"\n",
    "           \"where delay >= 120 and origin = 'SFO' and destination = 'ORD' \"\n",
    "           \"group by date_converted \"\n",
    "           \"order by delay_count desc\")\n",
    " .show(10))"
   ]
  },
  {
   "cell_type": "code",
   "execution_count": null,
   "id": "78ab137c-f78d-414d-8fa1-49c605107b4f",
   "metadata": {
    "scrolled": true
   },
   "outputs": [],
   "source": [
    "# Add a column with delay indicators, e.g., Very Long Delays (> 6 hours), Long Delays (2–6 hours), etc.\n",
    "spark.sql(\"\"\"\n",
    "SELECT delay, origin, destination,\n",
    "CASE\n",
    "  WHEN delay > 360 THEN 'Very Long Delays'\n",
    "  WHEN delay > 120 AND delay <= 360 THEN 'Long Delays'\n",
    "  WHEN delay > 60 AND delay <= 120 THEN 'Short Delays'\n",
    "  WHEN delay > 0 and delay <= 60 THEN 'Tolerable Delays'\n",
    "  WHEN delay = 0 THEN 'No Delays'\n",
    "  ELSE 'Early'\n",
    "END AS Flight_Delays\n",
    "FROM us_delay_flights_tbl\n",
    "ORDER BY origin, delay DESC\n",
    "\"\"\").show(10)"
   ]
  },
  {
   "cell_type": "code",
   "execution_count": null,
   "id": "e5c5587d-8bf8-4c87-a9a0-fceed3ad6a75",
   "metadata": {
    "scrolled": true
   },
   "outputs": [],
   "source": [
    "# The above SQL queries translated into the structured API\n",
    "df.where(F.col(\"distance\") > 1000).orderBy(F.desc(\"distance\")).show(10)"
   ]
  },
  {
   "cell_type": "code",
   "execution_count": null,
   "id": "e51708a0-d9b0-4377-88c6-d83ec5ca5f41",
   "metadata": {
    "scrolled": true
   },
   "outputs": [],
   "source": [
    "(df\n",
    " .select(F.to_date(\"date\", \"MMddHHmm\").alias(\"date_converted\"), \"delay\") \n",
    " .where((F.col(\"delay\") >= 120) & (F.col(\"origin\") == \"SFO\"))\n",
    " .where(F.col(\"destination\") == \"ORD\")\n",
    " .groupBy(\"date_converted\")\n",
    " .agg(F.count(\"delay\").alias(\"delay_count\"))\n",
    " .orderBy(F.desc(\"delay_count\"))\n",
    " .show(10))"
   ]
  },
  {
   "cell_type": "code",
   "execution_count": null,
   "id": "82d4400e-809e-4f37-882e-3ba11f8b94f0",
   "metadata": {},
   "outputs": [],
   "source": [
    "(df\n",
    " .select(\"delay\", \"origin\", \"destination\")\n",
    " .withColumn(\"Flight_Delays\", \n",
    "             F.when(df.delay > 360, \"Very Long Delays\")\n",
    "             .when((df.delay > 120) & (df.delay <= 360), \"Long Delays\")\n",
    "             .when((df.delay > 60) & (df.delay <= 120), \"Short Delays\")\n",
    "             .when((df.delay > 0) & (df.delay <= 60), \"Tolerable Delays\")\n",
    "             .when(df.delay == 0, \"No Delays\")\n",
    "             .otherwise(\"Early\")\n",
    "            )\n",
    " .orderBy(df.origin, F.desc(df.delay))\n",
    " .show(10))"
   ]
  },
  {
   "cell_type": "markdown",
   "id": "24be6977-89f9-4210-8d07-1096ccdd02bf",
   "metadata": {},
   "source": [
    "## SQL Tables and Views"
   ]
  },
  {
   "cell_type": "code",
   "execution_count": null,
   "id": "f8f32f04-8354-442e-b00f-ba87a5e76620",
   "metadata": {},
   "outputs": [],
   "source": [
    "spark.sql(\"create database if not exists learn_spark_db\")\n",
    "spark.sql(\"use learn_spark_db\")"
   ]
  },
  {
   "cell_type": "code",
   "execution_count": null,
   "id": "f0388531-7f66-4400-b853-62309efb2fc6",
   "metadata": {},
   "outputs": [],
   "source": [
    "# Create a managed table\n",
    "# In SQL\n",
    "# spark.sql(\"CREATE TABLE managed_us_delay_flights_tbl (date STRING, delay INT, distance INT, origin STRING, destination STRING)\")\n",
    "# In Structured API\n",
    "df.write.mode(\"overwrite\").saveAsTable(\"managed_us_delay_flights_tbl\")"
   ]
  },
  {
   "cell_type": "code",
   "execution_count": null,
   "id": "7d873660-fdc0-489e-8537-801a5be2f3ba",
   "metadata": {},
   "outputs": [],
   "source": [
    "# Create an unmanaged table\n",
    "df.write.mode(\"overwrite\").option(\"path\", \"./data_output/us_flights_delay\").saveAsTable(\"us_delay_flights_tbl\")"
   ]
  },
  {
   "cell_type": "code",
   "execution_count": null,
   "id": "9c5ef542-2b76-4c71-85d6-b084d839f9e1",
   "metadata": {},
   "outputs": [],
   "source": [
    "# Create global and session-scoped temporary views containing a slice of the flights table\n",
    "df_sfo = spark.sql(\"SELECT date, delay, origin, destination FROM us_delay_flights_tbl WHERE origin = 'SFO'\")\n",
    "df_jfk = spark.sql(\"SELECT date, delay, origin, destination FROM us_delay_flights_tbl WHERE origin = 'JFK'\")\n",
    "\n",
    "df_sfo.createOrReplaceGlobalTempView(\"us_origin_airport_SFO_global_tmp_view\")\n",
    "df_jfk.createOrReplaceTempView(\"us_origin_airport_JFK_tmp_view\")"
   ]
  },
  {
   "cell_type": "code",
   "execution_count": null,
   "id": "37cb5e79-884c-43ac-9a39-c01be927bad2",
   "metadata": {
    "scrolled": true
   },
   "outputs": [],
   "source": [
    "# Access global tem view\n",
    "spark.read.table(\"global_temp.us_origin_airport_SFO_global_tmp_view\").show(2)\n",
    "spark.sql(\"SELECT * FROM global_temp.us_origin_airport_SFO_global_tmp_view\").show(2)"
   ]
  },
  {
   "cell_type": "code",
   "execution_count": null,
   "id": "018cf1b1-84a8-40f1-b2bf-e922a1aaa958",
   "metadata": {
    "scrolled": true
   },
   "outputs": [],
   "source": [
    "# Access session-scoped temp view\n",
    "spark.read.table(\"us_origin_airport_JFK_tmp_view\").show(2)\n",
    "spark.sql(\"SELECT * FROM us_origin_airport_JFK_tmp_view\").show(2)"
   ]
  },
  {
   "cell_type": "code",
   "execution_count": null,
   "id": "179635b7-928c-40d3-94b6-5805ea4b07d0",
   "metadata": {},
   "outputs": [],
   "source": [
    "# Drop temp views\n",
    "spark.catalog.dropGlobalTempView(\"us_origin_airport_SFO_global_tmp_view\")\n",
    "spark.catalog.dropTempView(\"us_origin_airport_JFK_tmp_view\")"
   ]
  },
  {
   "cell_type": "code",
   "execution_count": null,
   "id": "07b60efd-14af-42fe-a5fc-618aae2f94a9",
   "metadata": {},
   "outputs": [],
   "source": [
    "# View metadata\n",
    "print(spark.catalog.listDatabases())\n",
    "print(spark.catalog.listTables())\n",
    "print(spark.catalog.listColumns(\"us_delay_flights_tbl\"))"
   ]
  },
  {
   "cell_type": "code",
   "execution_count": null,
   "id": "da25f469-9773-4a9c-91f8-e52fe9491262",
   "metadata": {},
   "outputs": [],
   "source": [
    "# Reading Tables into DataFrames\n",
    "us_flights_df = spark.sql(\"select * from us_delay_flights_tbl\")\n",
    "us_flights_df2 = spark.table(\"us_delay_flights_tbl\")\n",
    "\n",
    "us_flights_df.show(2)\n",
    "us_flights_df2.show(2)"
   ]
  },
  {
   "cell_type": "markdown",
   "id": "c5476df4-5a99-48dd-9a25-e94b9c94f9ec",
   "metadata": {},
   "source": [
    "## Data Sources for DataFrames and SQL Tables"
   ]
  },
  {
   "cell_type": "code",
   "execution_count": null,
   "id": "294c6cf8-8b0d-4bf1-95b4-62e45d9be463",
   "metadata": {},
   "outputs": [],
   "source": [
    "# Reading Parquet files into a DataFrame\n",
    "path = \"./data_output/us_flights_delay/\"\n",
    "df2 = spark.read.format(\"parquet\").load(path)\n",
    "df2.show(2)"
   ]
  },
  {
   "cell_type": "code",
   "execution_count": null,
   "id": "6a208add-a4dd-42d5-bf66-48f3aaa84277",
   "metadata": {},
   "outputs": [],
   "source": [
    "# Reading Parquet files into a Spark SQL table\n",
    "spark.sql(\"create or replace temporary view unmanaged2_us_delay_flights_tbl \"\n",
    "          \"using parquet options (path './data_output/us_flights_delay/')\")"
   ]
  },
  {
   "cell_type": "code",
   "execution_count": null,
   "id": "86aabaec-de3b-45b1-bd9a-2f71333536c8",
   "metadata": {},
   "outputs": [],
   "source": [
    "spark.sql(\"SELECT * FROM unmanaged2_us_delay_flights_tbl\").show()"
   ]
  },
  {
   "cell_type": "code",
   "execution_count": null,
   "id": "e6fd79fd-d2a8-4e29-92de-d31eaa626929",
   "metadata": {},
   "outputs": [],
   "source": [
    "spark.stop()"
   ]
  }
 ],
 "metadata": {
  "kernelspec": {
   "display_name": "Python 3 (ipykernel)",
   "language": "python",
   "name": "python3"
  },
  "language_info": {
   "codemirror_mode": {
    "name": "ipython",
    "version": 3
   },
   "file_extension": ".py",
   "mimetype": "text/x-python",
   "name": "python",
   "nbconvert_exporter": "python",
   "pygments_lexer": "ipython3",
   "version": "3.11.2"
  }
 },
 "nbformat": 4,
 "nbformat_minor": 5
}
