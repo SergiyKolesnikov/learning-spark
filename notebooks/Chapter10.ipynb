{
 "cells": [
  {
   "cell_type": "markdown",
   "id": "5878bb77-0643-4a3a-bca1-0c1874556758",
   "metadata": {},
   "source": [
    "# Chapter 10. Machine Learning with MLlib"
   ]
  },
  {
   "cell_type": "code",
   "execution_count": null,
   "id": "aafd17b7-b857-43b6-a2f8-0421d0d62ca3",
   "metadata": {},
   "outputs": [],
   "source": []
  }
 ],
 "metadata": {
  "kernelspec": {
   "display_name": "Python 3 (ipykernel)",
   "language": "python",
   "name": "python3"
  },
  "language_info": {
   "codemirror_mode": {
    "name": "ipython",
    "version": 3
   },
   "file_extension": ".py",
   "mimetype": "text/x-python",
   "name": "python",
   "nbconvert_exporter": "python",
   "pygments_lexer": "ipython3",
   "version": "3.11.2"
  }
 },
 "nbformat": 4,
 "nbformat_minor": 5
}
