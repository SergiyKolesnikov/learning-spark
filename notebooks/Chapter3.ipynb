{
 "cells": [
  {
   "cell_type": "markdown",
   "id": "020e74ce-bba5-4fd4-8263-d3ecb9eaf36d",
   "metadata": {},
   "source": [
    "# Chapter 3. Apache Spark's Structured APIs"
   ]
  },
  {
   "cell_type": "code",
   "execution_count": null,
   "id": "09d584eb-3d5a-452b-afa2-df1ffb13fb85",
   "metadata": {},
   "outputs": [],
   "source": [
    "from pyspark.sql.types import *\n",
    "from pyspark.sql import SparkSession\n",
    "from pyspark.sql.functions import *"
   ]
  },
  {
   "cell_type": "code",
   "execution_count": null,
   "id": "fc86bd44-99a3-4f59-ba78-c1a5e18d0ac1",
   "metadata": {},
   "outputs": [],
   "source": [
    "#create a SparkSession\n",
    "spark = (SparkSession\n",
    "   .builder\n",
    "   .appName(\"Example-3_6\")\n",
    "   .getOrCreate())\n",
    "spark"
   ]
  },
  {
   "cell_type": "markdown",
   "id": "8cc97786-60b0-49a8-a35f-841ffb02a15c",
   "metadata": {},
   "source": [
    "## Schemas and Creating DataFrames"
   ]
  },
  {
   "cell_type": "code",
   "execution_count": null,
   "id": "c59fb85d-ea43-48c6-a721-02697025a0b4",
   "metadata": {},
   "outputs": [],
   "source": [
    "# define schema for our data\n",
    "schema = (\"`Id` INT, `First` STRING, `Last` STRING, `Url` STRING,\"\n",
    "          \" `Published` STRING, `Hits` INT, `Campaigns` ARRAY<STRING>\")\n",
    "\n",
    "#create our data\n",
    "data = [[1, \"Jules\", \"Damji\", \"https://tinyurl.1\", \"1/4/2016\", 4535, [\"twitter\", \"LinkedIn\"]],\n",
    "       [2, \"Brooke\",\"Wenig\",\"https://tinyurl.2\", \"5/5/2018\", 8908, [\"twitter\", \"LinkedIn\"]],\n",
    "       [3, \"Denny\", \"Lee\", \"https://tinyurl.3\",\"6/7/2019\",7659, [\"web\", \"twitter\", \"FB\", \"LinkedIn\"]],\n",
    "       [4, \"Tathagata\", \"Das\",\"https://tinyurl.4\", \"5/12/2018\", 10568, [\"twitter\", \"FB\"]],\n",
    "       [5, \"Matei\",\"Zaharia\", \"https://tinyurl.5\", \"5/14/2014\", 40578, [\"web\", \"twitter\", \"FB\", \"LinkedIn\"]],\n",
    "       [6, \"Reynold\", \"Xin\", \"https://tinyurl.6\", \"3/2/2015\", 25568, [\"twitter\", \"LinkedIn\"]]\n",
    "      ]"
   ]
  },
  {
   "cell_type": "code",
   "execution_count": null,
   "id": "8a932b5d-4f2a-4b49-8018-77fb83d93687",
   "metadata": {},
   "outputs": [],
   "source": [
    "# create a DataFrame using the schema defined above\n",
    "blogs_df = spark.createDataFrame(data, schema)\n",
    "# show the DataFrame; it should reflect our table above\n",
    "blogs_df.show()"
   ]
  },
  {
   "cell_type": "code",
   "execution_count": null,
   "id": "ebf1253e-eb27-4830-90a3-377adba26c85",
   "metadata": {},
   "outputs": [],
   "source": [
    "# print the schema used by Spark to process the DataFrame\n",
    "blogs_df.printSchema()"
   ]
  },
  {
   "cell_type": "markdown",
   "id": "b90e28bd-bbb6-47fe-b0c5-eab3eb0d6b00",
   "metadata": {},
   "source": [
    "## Columns, and Expressions"
   ]
  },
  {
   "cell_type": "code",
   "execution_count": null,
   "id": "81df6b25-e96d-4928-9afd-0dd1e29975b4",
   "metadata": {},
   "outputs": [],
   "source": [
    "# show heavy hitters\n",
    "blogs_df.withColumn(\"Big Hitters\", (expr(\"Hits > 10000\"))).show()\n",
    "blogs_df.schema.simpleString()"
   ]
  },
  {
   "cell_type": "code",
   "execution_count": null,
   "id": "6be35f19-2c7e-4186-8b8d-31bfc1168e41",
   "metadata": {},
   "outputs": [],
   "source": [
    "blogs_df.withColumn(\"AuthorsId\", (concat(\"First\", \"Last\", \"Id\"))).select(\"AuthorsId\").show(4)"
   ]
  },
  {
   "cell_type": "code",
   "execution_count": null,
   "id": "3fc401d6-b506-4a7e-93b3-5bc1e16c08c9",
   "metadata": {},
   "outputs": [],
   "source": [
    "# Show columns and expressions\n",
    "blogs_df.select(expr(\"Hits\") * 2).show(2)\n",
    "blogs_df.select(col(\"Hits\") * 2).show(2)\n",
    "blogs_df.select(expr(\"Hits * 2\")).show(2)"
   ]
  },
  {
   "cell_type": "code",
   "execution_count": null,
   "id": "6c96d44a-cbb2-4f9e-b63d-a27946b74299",
   "metadata": {},
   "outputs": [],
   "source": [
    "blogs_df.sort(col(\"Id\"), ascending=False).show()"
   ]
  },
  {
   "cell_type": "markdown",
   "id": "0a0a0698-b7e1-43ad-b1a1-04f89536fb16",
   "metadata": {},
   "source": [
    "## Rows"
   ]
  },
  {
   "cell_type": "code",
   "execution_count": null,
   "id": "9c0060f2-3a4a-49bb-8fe7-f8ee96bdf955",
   "metadata": {},
   "outputs": [],
   "source": [
    "from pyspark.sql import Row\n",
    "blog_row = Row(6, \"Reynold\", \"Xin\", \"https://tinyurl.6\", 255568, \"3/2/2015\", [\"twitter\", \"LinkedIn\"])\n",
    "# access using index for individual items\n",
    "blog_row[1]"
   ]
  },
  {
   "cell_type": "code",
   "execution_count": null,
   "id": "15abaef6-651b-471f-a5bc-5774979d08bf",
   "metadata": {},
   "outputs": [],
   "source": [
    "rows = [Row(\"Matei Zaharia\", \"CA\"), Row(\"Reynold Xin\", \"CA\")]\n",
    "authors_df = spark.createDataFrame(rows, [\"Authors\", \"State\"])\n",
    "authors_df.show()"
   ]
  },
  {
   "cell_type": "markdown",
   "id": "8be06d53-e425-4ba8-991b-968389ebb3d8",
   "metadata": {},
   "source": [
    "## Common DataFrame Operations"
   ]
  },
  {
   "cell_type": "code",
   "execution_count": null,
   "id": "2847573d-45ed-40fb-b729-e9616544d264",
   "metadata": {},
   "outputs": [],
   "source": [
    "# Define a schema\n",
    "fire_schema = (\"`CallNumber` int, `UnitID` string, `IncidentNumber` int, `CallType` string, \"\n",
    "               \"`CallDate` string, `WatchDate` string, `CallFinalDisposition` string, \"\n",
    "               \"`AvailableDtTm` string, `Address` string, `City` string, `Zipcode` int, \"\n",
    "               \"`Battalion` string, `StationArea` string, `Box` string, `OriginalPriority` string, \"\n",
    "               \"`Priority` string, `FinalPriority` int, `ALSUnit` boolean, `CallTypeGroup` string, \"\n",
    "               \"`NumAlarms` int, `UnitType` string, `UnitSequenceInCallDispatch` int, \"\n",
    "               \"`FirePreventionDistrict` string, `SupervisorDistrict` string, \"\n",
    "               \"`Neighborhood` string, `Location` string, `RowID` string, `Delay` float\")"
   ]
  },
  {
   "cell_type": "code",
   "execution_count": null,
   "id": "99e3002b-2f2b-4e83-8dae-b94ddd37a019",
   "metadata": {},
   "outputs": [],
   "source": [
    "# Use the DataFrameReader interface to read a CSV file\n",
    "sf_fire_file = \"../data/sf-fire-calls.csv\"\n",
    "fire_df = spark.read.schema(fire_schema).option(\"header\", \"true\").csv(sf_fire_file)"
   ]
  },
  {
   "cell_type": "code",
   "execution_count": null,
   "id": "5b9213c6-dc8f-486b-a162-95f6730cf946",
   "metadata": {},
   "outputs": [],
   "source": [
    "# Save as a Parquet file\n",
    "parquet_path = '../data_output/chapter3'\n",
    "fire_df.write.format(\"parquet\").save(parquet_path)"
   ]
  },
  {
   "cell_type": "code",
   "execution_count": null,
   "id": "f59fae12-f585-4029-bf0d-d0c05a3b2cb0",
   "metadata": {},
   "outputs": [],
   "source": [
    "# Save as a SQL table\n",
    "parquet_table = \"firecalls\"\n",
    "fire_df.write.format(\"parquet\").saveAsTable(parquet_table)"
   ]
  },
  {
   "cell_type": "code",
   "execution_count": null,
   "id": "3e058989-51b2-4641-ba35-f875a95979e2",
   "metadata": {},
   "outputs": [],
   "source": [
    "spark.sql(\"select * from firecalls\").count()"
   ]
  },
  {
   "cell_type": "code",
   "execution_count": null,
   "id": "e5629bd8-93c2-49d5-806e-a1db31a01057",
   "metadata": {
    "scrolled": true
   },
   "outputs": [],
   "source": [
    "# Find units with the most calls\n",
    "(fire_df.select(\"UnitID\").groupBy(\"UnitID\").agg(count(\"UnitID\").alias(\"NumberOfCalls\"))\n",
    " .orderBy(\"NumberOfCalls\", ascending=False).show())"
   ]
  },
  {
   "cell_type": "code",
   "execution_count": null,
   "id": "3aa43569-2308-446c-87e9-3f6848dbf8a1",
   "metadata": {},
   "outputs": [],
   "source": [
    "# Projections and filters\n",
    "few_fire_df = (fire_df\n",
    "               .select(\"IncidentNumber\", \"AvailableDtTm\", \"CallType\")\n",
    "               .where(col(\"CallType\") != \"Medical Incident\"))\n",
    "few_fire_df.show(5, truncate=False)"
   ]
  },
  {
   "cell_type": "code",
   "execution_count": null,
   "id": "62269702-0e8d-4993-b603-ae0f1ed7043a",
   "metadata": {},
   "outputs": [],
   "source": [
    "# Return number of distinct types of calls using countDistinct()\n",
    "(fire_df\n",
    " .select(\"CallType\")\n",
    " .where(col(\"CallType\").isNotNull())\n",
    " .agg(countDistinct(\"CallType\").alias(\"DistinctCallTypes\"))\n",
    " .show())"
   ]
  },
  {
   "cell_type": "code",
   "execution_count": null,
   "id": "cacfb01b-9ae4-4160-af18-f6d5115ae9bd",
   "metadata": {},
   "outputs": [],
   "source": [
    "# Filter for only distinct non-null CallTypes from all the rows\n",
    "(fire_df\n",
    " .select(\"CallType\")\n",
    " .distinct()\n",
    " .where(col(\"CallType\").isNotNull())\n",
    " .show(100, truncate=False))"
   ]
  },
  {
   "cell_type": "code",
   "execution_count": null,
   "id": "ba258533-04e9-490c-8717-b40390835541",
   "metadata": {},
   "outputs": [],
   "source": [
    "# Renaming, adding, and dropping columns\n",
    "new_fire_df = fire_df.withColumnRenamed(\"Delay\", \"ResponseDelayedinMins\")\n",
    "(new_fire_df\n",
    " .select(\"ResponseDelayedinMins\")\n",
    " .where(col(\"ResponseDelayedinMins\") > 5)\n",
    " .show(5, False))"
   ]
  },
  {
   "cell_type": "code",
   "execution_count": null,
   "id": "7b67a863-267b-4a34-a27e-ad8d5e27b479",
   "metadata": {},
   "outputs": [],
   "source": [
    "# Convert strings to timestamps\n",
    "fire_ts_df = (new_fire_df\n",
    "              .withColumn(\"IncidentDate\", to_date(col(\"CallDate\"), \"MM/dd/yyyy\"))\n",
    "              .withColumn(\"OnWatchDate\", to_date(col(\"WatchDate\"), \"MM/dd/yyyy\"))\n",
    "              .withColumn(\"AvailableDtTS\", to_timestamp(col(\"AvailableDtTm\"), \"MM/dd/yyyy hh:mm:ss a\"))\n",
    "              .drop(\"CallDate\", \"WatchDate\", \"AvailableDtTm\"))\n",
    "# Select the converted columns\n",
    "(fire_ts_df\n",
    " .select(\"IncidentDate\", \"OnWatchDate\", \"AvailableDtTS\")\n",
    " .show(5, False))"
   ]
  },
  {
   "cell_type": "code",
   "execution_count": null,
   "id": "3f22ca57-14d6-4182-8b96-33cc44ac3a5b",
   "metadata": {},
   "outputs": [],
   "source": [
    "# How many years’ worth of Fire Department calls are included in the data set\n",
    "(fire_ts_df\n",
    ".select(year(\"IncidentDate\").alias(\"IncidentDateYear\"))\n",
    ".distinct()\n",
    ".orderBy(\"IncidentDateYear\")\n",
    ".show())"
   ]
  },
  {
   "cell_type": "code",
   "execution_count": null,
   "id": "8d845e4e-e995-4a3f-8734-15a688ee5663",
   "metadata": {},
   "outputs": [],
   "source": [
    "# What were the most common types of fire calls?\n",
    "(fire_ts_df\n",
    " .select(\"CallType\")\n",
    " .where(col(\"CallType\").isNotNull())\n",
    " .groupBy(\"CallType\")\n",
    " .count()\n",
    " .orderBy(\"count\", ascending=False)\n",
    " .show(n=10, truncate=False))"
   ]
  },
  {
   "cell_type": "code",
   "execution_count": null,
   "id": "870a309e-459a-431d-a4be-4d5fe4066a80",
   "metadata": {},
   "outputs": [],
   "source": [
    "import pyspark.sql.functions as F\n",
    "(fire_ts_df\n",
    " .select(F.sum(\"NumAlarms\"), F.avg(\"ResponseDelayedinMins\"),\n",
    "         F.min(\"ResponseDelayedinMins\"), F.max(\"ResponseDelayedinMins\"))\n",
    " .show())"
   ]
  },
  {
   "cell_type": "code",
   "execution_count": null,
   "id": "15dbf651-68c6-4240-9162-e30a5d793987",
   "metadata": {},
   "outputs": [],
   "source": [
    "spark.stop()"
   ]
  }
 ],
 "metadata": {
  "kernelspec": {
   "display_name": "Python 3 (ipykernel)",
   "language": "python",
   "name": "python3"
  },
  "language_info": {
   "codemirror_mode": {
    "name": "ipython",
    "version": 3
   },
   "file_extension": ".py",
   "mimetype": "text/x-python",
   "name": "python",
   "nbconvert_exporter": "python",
   "pygments_lexer": "ipython3",
   "version": "3.11.2"
  }
 },
 "nbformat": 4,
 "nbformat_minor": 5
}
