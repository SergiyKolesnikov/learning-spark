{
 "cells": [
  {
   "cell_type": "markdown",
   "id": "eaea8e24-e359-4ded-b7f8-b27de3eff95a",
   "metadata": {},
   "source": [
    "# Chapter 2. Downloading Apache Spark and Getting Started"
   ]
  },
  {
   "cell_type": "code",
   "execution_count": null,
   "id": "e6bf3f51-9ba3-4087-a106-9ea2164643b9",
   "metadata": {},
   "outputs": [],
   "source": [
    "from pyspark.sql import SparkSession\n",
    "from pyspark.sql.functions import count"
   ]
  },
  {
   "cell_type": "code",
   "execution_count": null,
   "id": "4aa0db71-86f9-448d-93ad-2943021b7277",
   "metadata": {},
   "outputs": [],
   "source": [
    "MNM_FILE = \"../data/mnm_dataset.csv\""
   ]
  },
  {
   "cell_type": "code",
   "execution_count": null,
   "id": "6df5fda7-6c2d-49bc-80b4-c3cf7f62f710",
   "metadata": {},
   "outputs": [],
   "source": [
    "spark = SparkSession.builder.appName(\"PythonMnMCount\").getOrCreate()\n",
    "spark"
   ]
  },
  {
   "cell_type": "code",
   "execution_count": null,
   "id": "40e7aa2b-30f6-4df4-9fbf-d780c5a81892",
   "metadata": {
    "scrolled": true
   },
   "outputs": [],
   "source": [
    "mnm_df = spark.read.format(\"csv\").option(\"header\", \"true\").option(\"inferSchema\", \"true\").load(MNM_FILE)\n",
    "count_mnm_df = mnm_df.select(\"State\", \"Color\", \"Count\").groupBy(\"State\", \"Color\").agg(count(\"Count\").alias(\"Total\"))\n",
    "count_mnm_df.show(n=60, truncate=False)"
   ]
  },
  {
   "cell_type": "code",
   "execution_count": null,
   "id": "55072c9f-e060-4210-a529-d5d83c61056e",
   "metadata": {},
   "outputs": [],
   "source": [
    "print(f\"Total Rows = {count_mnm_df.count()}\")"
   ]
  },
  {
   "cell_type": "code",
   "execution_count": null,
   "id": "58035b71-1275-444b-a450-2dec19854a11",
   "metadata": {},
   "outputs": [],
   "source": [
    "ca_count_mnm_df = mnm_df.select(\"State\", \"Color\", \"Count\").where(mnm_df.State == \"CA\").groupBy(\"State\", \"Color\").agg(count(\"Count\").alias(\"Total\")).orderBy(\"Total\", ascending=False)\n",
    "ca_count_mnm_df.show(n=10, truncate=False)"
   ]
  },
  {
   "cell_type": "code",
   "execution_count": null,
   "id": "26ecf22b-e73f-4a9a-af94-f86ec06d5637",
   "metadata": {},
   "outputs": [],
   "source": [
    "spark.stop()"
   ]
  },
  {
   "cell_type": "code",
   "execution_count": null,
   "id": "dc929060-f786-40bc-bfd7-3115480960e5",
   "metadata": {},
   "outputs": [],
   "source": [
    "ca_count_mnm_df.explain(\"extended\")"
   ]
  }
 ],
 "metadata": {
  "kernelspec": {
   "display_name": "Python 3 (ipykernel)",
   "language": "python",
   "name": "python3"
  },
  "language_info": {
   "codemirror_mode": {
    "name": "ipython",
    "version": 3
   },
   "file_extension": ".py",
   "mimetype": "text/x-python",
   "name": "python",
   "nbconvert_exporter": "python",
   "pygments_lexer": "ipython3",
   "version": "3.11.2"
  }
 },
 "nbformat": 4,
 "nbformat_minor": 5
}
